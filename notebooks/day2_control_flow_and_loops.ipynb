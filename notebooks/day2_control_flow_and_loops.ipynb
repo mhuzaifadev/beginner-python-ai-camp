{
  "nbformat": 4,
  "nbformat_minor": 0,
  "metadata": {
    "colab": {
      "provenance": []
    },
    "kernelspec": {
      "name": "python3",
      "display_name": "Python 3"
    },
    "language_info": {
      "name": "python"
    }
  },
  "cells": [
    {
      "cell_type": "markdown",
      "source": [
        "# **Day 2: Control Flow & Loops**\n",
        "\n",
        "* `if`, `elif`, `else`\n",
        "* Logical operators (and, or, not)\n",
        "* `for` loops\n",
        "* `while` loops\n",
        "* Final Mini Project: Number Guessing Game\n"
      ],
      "metadata": {
        "id": "CxNTZXI6Jm5z"
      }
    },
    {
      "cell_type": "markdown",
      "source": [
        "## **Making Decisions: `if`, `elif`, `else`**\n",
        "\n",
        "Sometimes we want the computer to do different things depending on the situation.\n",
        "\n",
        "Just like:\n",
        "- If it's raining, take an umbrella.\n",
        "- If it's sunny, wear sunglasses.\n",
        "\n",
        "Python uses `if`, `elif`, and `else` to do this.\n"
      ],
      "metadata": {
        "id": "1F8cf-IfGJpu"
      }
    },
    {
      "cell_type": "code",
      "source": [
        "weather = \"rainy\"\n",
        "\n",
        "if weather == \"sunny\":\n",
        "    print(\"Wear sunglasses 😎\")\n",
        "elif weather == \"rainy\":\n",
        "    print(\"Take an umbrella ☔\")\n",
        "else:\n",
        "    print(\"Check the weather app again 🧐\")\n"
      ],
      "metadata": {
        "colab": {
          "base_uri": "https://localhost:8080/"
        },
        "id": "8nK8ttFjGdOH",
        "outputId": "caeb1b87-b580-4280-e830-59c7b8875627"
      },
      "execution_count": 14,
      "outputs": [
        {
          "output_type": "stream",
          "name": "stdout",
          "text": [
            "Take an umbrella ☔\n"
          ]
        }
      ]
    },
    {
      "cell_type": "markdown",
      "source": [
        "This ladder perfectly reseumbles how computer processes IF ELSE Logic\n",
        "\n",
        "<img src = \"https://kodular-community.s3.dualstack.eu-west-1.amazonaws.com/original/3X/2/9/299d85b97d5c37a343d1e5ddc6b10f8752de3be7.jpeg\">"
      ],
      "metadata": {
        "id": "fp-QgQGgLwv6"
      }
    },
    {
      "cell_type": "markdown",
      "source": [
        "## **✅ Practice: Student Grade Check**\n",
        "\n",
        "Write a program that prints a message based on the student's marks.\n",
        "\n",
        "- 90 or more → \"Excellent!\"\n",
        "- 70 to 89 → \"Good job!\"\n",
        "- Below 70 → \"Needs improvement\"\n"
      ],
      "metadata": {
        "id": "84E0D7PyGeRc"
      }
    },
    {
      "cell_type": "code",
      "source": [
        "marks = 75\n",
        "\n",
        "if marks >= 90:\n",
        "    print(\"Excellent! 🏅\")\n",
        "elif marks >= 70:\n",
        "    print(\"Good job! 👍\")\n",
        "else:\n",
        "    print(\"Needs improvement 📚\")\n"
      ],
      "metadata": {
        "colab": {
          "base_uri": "https://localhost:8080/"
        },
        "id": "YZSpzJPaG8K3",
        "outputId": "eb8eddd1-efda-4171-dc1c-c6e11690a0fc"
      },
      "execution_count": 15,
      "outputs": [
        {
          "output_type": "stream",
          "name": "stdout",
          "text": [
            "Good job! 👍\n"
          ]
        }
      ]
    },
    {
      "cell_type": "markdown",
      "source": [
        "<img src = \"https://encrypted-tbn0.gstatic.com/images?q=tbn:ANd9GcQduBA-HRHwwLXIgTpHvKdxq7fwdlO_w4e4Sw&s\">"
      ],
      "metadata": {
        "id": "vdfui6hPO_8K"
      }
    },
    {
      "cell_type": "markdown",
      "source": [
        "## **🔗 Logical Operators: `and`, `or`, `not`**\n",
        "\n",
        "You can also check more than one condition at a time.\n",
        "\n",
        "- `and` → both must be true  \n",
        "- `or` → at least one must be true  \n",
        "- `not` → flips true to false, or false to true\n"
      ],
      "metadata": {
        "id": "jGlntZahG_ZL"
      }
    },
    {
      "cell_type": "code",
      "source": [
        "age = 12\n",
        "has_ticket = True\n",
        "\n",
        "if age >= 10 and has_ticket:\n",
        "    print(\"You can enter the movie 🍿\")\n",
        "else:\n",
        "    print(\"Sorry, not allowed 🚫\")\n"
      ],
      "metadata": {
        "colab": {
          "base_uri": "https://localhost:8080/"
        },
        "id": "9f9v3LYuHFFn",
        "outputId": "949eb230-393d-40db-d6bc-ad7a532465f2"
      },
      "execution_count": 16,
      "outputs": [
        {
          "output_type": "stream",
          "name": "stdout",
          "text": [
            "You can enter the movie 🍿\n"
          ]
        }
      ]
    },
    {
      "cell_type": "markdown",
      "source": [
        "### **🧪 Try This:**\n",
        "\n",
        "Make a program to check if a student can go on a field trip.\n",
        "\n",
        "They can go if:\n",
        "- They have a permission slip **or**\n",
        "- Their parent is with them.\n"
      ],
      "metadata": {
        "id": "UidTww2dHSgM"
      }
    },
    {
      "cell_type": "code",
      "source": [
        "has_permission = False\n",
        "with_parent = True\n",
        "\n",
        "if has_permission or with_parent:\n",
        "    print(\"You can go on the trip! 🚌\")\n",
        "else:\n",
        "    print(\"Sorry, you can't go this time.\")\n"
      ],
      "metadata": {
        "colab": {
          "base_uri": "https://localhost:8080/"
        },
        "id": "gvcJSyDlHYZK",
        "outputId": "1bf45947-2fa1-4b8d-8655-886cb24d4910"
      },
      "execution_count": 17,
      "outputs": [
        {
          "output_type": "stream",
          "name": "stdout",
          "text": [
            "You can go on the trip! 🚌\n"
          ]
        }
      ]
    },
    {
      "cell_type": "markdown",
      "source": [
        "---\n",
        "\n",
        "**`Below is te iconic and hysterical meme`**\n",
        "\n",
        "<img src = \"https://media.licdn.com/dms/image/v2/D4D22AQGwGKoc_4aqAw/feedshare-shrink_2048_1536/feedshare-shrink_2048_1536/0/1710168701460?e=2147483647&v=beta&t=UNvovmr8ITSLFxXneV8s7XUwNz8VMddr171RwuqlSUs\">\n"
      ],
      "metadata": {
        "id": "VJu6o7LsLL0q"
      }
    },
    {
      "cell_type": "markdown",
      "source": [
        "---\n",
        "## 🔁 ***for*   Loop – Repeat Things Easily**\n",
        "\n",
        "A `for` loop is great when you know how many times to repeat something.\n",
        "\n",
        "Example: Say hi to each friend in a list.\n",
        "\n"
      ],
      "metadata": {
        "id": "5hTv7FtCHaiz"
      }
    },
    {
      "cell_type": "code",
      "source": [
        "friends = [\"Ali\", \"Sara\", \"John\", \"Lina\"]\n",
        "\n",
        "for name in friends:\n",
        "    print(f\"Hi {name}! 👋\")\n"
      ],
      "metadata": {
        "colab": {
          "base_uri": "https://localhost:8080/"
        },
        "id": "vsRo5vLuHuFK",
        "outputId": "0fc925e1-d77a-4936-9519-93920130ca88"
      },
      "execution_count": 18,
      "outputs": [
        {
          "output_type": "stream",
          "name": "stdout",
          "text": [
            "Hi Ali! 👋\n",
            "Hi Sara! 👋\n",
            "Hi John! 👋\n",
            "Hi Lina! 👋\n"
          ]
        }
      ]
    },
    {
      "cell_type": "markdown",
      "source": [
        "### **🎯 Mini Challenge: Even or Odd**\n",
        "\n",
        "Loop from 1 to 10 and print if the number is even or odd.\n"
      ],
      "metadata": {
        "id": "7TPR20uFHx8Y"
      }
    },
    {
      "cell_type": "code",
      "source": [
        "for number in range(1, 11):\n",
        "    if number % 2 == 0:\n",
        "        print(f\"{number} is even\")\n",
        "    else:\n",
        "        print(f\"{number} is odd\")\n"
      ],
      "metadata": {
        "colab": {
          "base_uri": "https://localhost:8080/"
        },
        "id": "c2d3ruqhH24n",
        "outputId": "79cbff35-9d22-4a19-b5d4-66a03bb5ae93"
      },
      "execution_count": 19,
      "outputs": [
        {
          "output_type": "stream",
          "name": "stdout",
          "text": [
            "1 is odd\n",
            "2 is even\n",
            "3 is odd\n",
            "4 is even\n",
            "5 is odd\n",
            "6 is even\n",
            "7 is odd\n",
            "8 is even\n",
            "9 is odd\n",
            "10 is even\n"
          ]
        }
      ]
    },
    {
      "cell_type": "markdown",
      "source": [
        "## **📈 range() in for Loops**\n",
        "\n",
        "`range(start, stop)` creates a list of numbers.\n",
        "\n",
        "Use it when you want numbers in a loop.\n"
      ],
      "metadata": {
        "id": "zGL8sgtOH5a5"
      }
    },
    {
      "cell_type": "code",
      "source": [
        "for i in range(1, 6):\n",
        "    print(f\"Round {i}\")"
      ],
      "metadata": {
        "colab": {
          "base_uri": "https://localhost:8080/"
        },
        "id": "kGJA7s_gIASU",
        "outputId": "4ce47896-520d-424c-b1f1-85c0269d57fc"
      },
      "execution_count": 20,
      "outputs": [
        {
          "output_type": "stream",
          "name": "stdout",
          "text": [
            "Round 1\n",
            "Round 2\n",
            "Round 3\n",
            "Round 4\n",
            "Round 5\n"
          ]
        }
      ]
    },
    {
      "cell_type": "markdown",
      "source": [
        "## **🧱 Challenge: Star Pyramid**\n",
        "\n",
        "Use a loop to print this:\n",
        "```\n",
        "*\n",
        "**\n",
        "***\n",
        "****\n",
        "*****\n",
        "```"
      ],
      "metadata": {
        "id": "GbOP-5sVIDA8"
      }
    },
    {
      "cell_type": "code",
      "source": [
        "for i in range(1, 6):\n",
        "    print(\"*\" * i)\n"
      ],
      "metadata": {
        "colab": {
          "base_uri": "https://localhost:8080/"
        },
        "id": "IUbeBh--INZS",
        "outputId": "0a503d7d-89a2-474d-8472-cb81945888a8"
      },
      "execution_count": 21,
      "outputs": [
        {
          "output_type": "stream",
          "name": "stdout",
          "text": [
            "*\n",
            "**\n",
            "***\n",
            "****\n",
            "*****\n"
          ]
        }
      ]
    },
    {
      "cell_type": "markdown",
      "source": [
        "## 🔄 **while Loop – Repeat Until Done**\n",
        "\n",
        "Use `while` when you're not sure how many times something needs to repeat.\n",
        "\n",
        "It keeps going as long as the condition is `True`.\n"
      ],
      "metadata": {
        "id": "Nboyp7HyIRDt"
      }
    },
    {
      "cell_type": "code",
      "source": [
        "count = 0\n",
        "\n",
        "while count < 3:\n",
        "    print(\"Keep going 💪\")\n",
        "    count += 1\n"
      ],
      "metadata": {
        "colab": {
          "base_uri": "https://localhost:8080/"
        },
        "id": "8UBwOLW0IaYF",
        "outputId": "64fffeef-c67e-4786-86bd-6f9cf51bf8df"
      },
      "execution_count": 22,
      "outputs": [
        {
          "output_type": "stream",
          "name": "stdout",
          "text": [
            "Keep going 💪\n",
            "Keep going 💪\n",
            "Keep going 💪\n"
          ]
        }
      ]
    },
    {
      "cell_type": "markdown",
      "source": [
        "## *🎨 Guess Favorite Color (Simple AI!)*\n",
        "\n",
        "Ask the user to guess your favorite color until they get it right.\n"
      ],
      "metadata": {
        "id": "UCwDT42dId-h"
      }
    },
    {
      "cell_type": "code",
      "source": [
        "color = \"\"\n",
        "\n",
        "while color != \"blue\":\n",
        "    color = input(\"Guess my favorite color: \")\n",
        "\n",
        "print(\"You got it! 🎉\")\n"
      ],
      "metadata": {
        "colab": {
          "base_uri": "https://localhost:8080/"
        },
        "id": "x8VPbeQ_IQeI",
        "outputId": "15438e0b-6539-43be-efee-4f95f8b9dd29"
      },
      "execution_count": 23,
      "outputs": [
        {
          "output_type": "stream",
          "name": "stdout",
          "text": [
            "Guess my favorite color: green\n",
            "Guess my favorite color: blue\n",
            "You got it! 🎉\n"
          ]
        }
      ]
    },
    {
      "cell_type": "markdown",
      "source": [
        "## **🧠 Combine Loops & Conditions**\n",
        "\n",
        "We can mix loops and `if` statements together.\n",
        "\n",
        "Let's print students and their scores:\n"
      ],
      "metadata": {
        "id": "447jH_MpIzJ8"
      }
    },
    {
      "cell_type": "code",
      "source": [
        "students = [\"Ali\", \"Zara\", \"Nina\"]\n",
        "marks = [88, 62, 91]\n",
        "\n",
        "for i in range(len(students)):\n",
        "    print(f\"{students[i]} scored {marks[i]}\")\n",
        "\n",
        "    if marks[i] >= 90:\n",
        "        print(\"🏅 Excellent!\")\n",
        "    elif marks[i] >= 70:\n",
        "        print(\"👏 Good job!\")\n",
        "    else:\n",
        "        print(\"📚 Study more!\")\n"
      ],
      "metadata": {
        "colab": {
          "base_uri": "https://localhost:8080/"
        },
        "id": "7u3H2g7-I11D",
        "outputId": "31cc468b-7aca-4688-c801-4d142a35d829"
      },
      "execution_count": 24,
      "outputs": [
        {
          "output_type": "stream",
          "name": "stdout",
          "text": [
            "Ali scored 88\n",
            "👏 Good job!\n",
            "Zara scored 62\n",
            "📚 Study more!\n",
            "Nina scored 91\n",
            "🏅 Excellent!\n"
          ]
        }
      ]
    },
    {
      "cell_type": "markdown",
      "source": [
        "## **🎮 Final Project: Number Guessing Game**\n",
        "\n",
        "Let’s build a game!\n",
        "\n",
        "The computer picks a number between 1 and 10.\n",
        "You try to guess it.\n",
        "It gives hints until you're correct.\n"
      ],
      "metadata": {
        "id": "-WaQf5OtI8ae"
      }
    },
    {
      "cell_type": "code",
      "source": [
        "import random\n",
        "\n",
        "secret = random.randint(1, 10)\n",
        "guess = None\n",
        "tries = 0\n",
        "\n",
        "print(\"🎯 I'm thinking of a number between 1 and 10. Can you guess it?\")\n",
        "\n",
        "while guess != secret:\n",
        "    guess = int(input(\"Enter your guess: \"))\n",
        "    tries += 1\n",
        "\n",
        "    if guess < secret:\n",
        "        print(\"Too low 🔽\")\n",
        "    elif guess > secret:\n",
        "        print(\"Too high 🔼\")\n",
        "    else:\n",
        "        print(f\"🎉 Correct! You got it in {tries} tries.\")\n"
      ],
      "metadata": {
        "colab": {
          "base_uri": "https://localhost:8080/"
        },
        "id": "jNdACkAPJB_H",
        "outputId": "92bd41b4-f5d8-488e-8c81-5e297a6af0bc"
      },
      "execution_count": 25,
      "outputs": [
        {
          "output_type": "stream",
          "name": "stdout",
          "text": [
            "🎯 I'm thinking of a number between 1 and 10. Can you guess it?\n",
            "Enter your guess: 3\n",
            "Too low 🔽\n",
            "Enter your guess: 6\n",
            "Too low 🔽\n",
            "Enter your guess: 5\n",
            "Too low 🔽\n",
            "Enter your guess: 9\n",
            "🎉 Correct! You got it in 4 tries.\n"
          ]
        }
      ]
    },
    {
      "cell_type": "markdown",
      "source": [
        "## **🧩 Quick Quiz (Optional)**\n",
        "\n",
        "Which loop keeps running until something becomes false?\n",
        "\n",
        "A. if statement  \n",
        "B. for loop  \n",
        "C. while loop\n",
        "D. print()\n"
      ],
      "metadata": {
        "id": "vh4rr6IQJDI3"
      }
    },
    {
      "cell_type": "code",
      "source": [],
      "metadata": {
        "id": "MbxbvwTbJg0w"
      },
      "execution_count": 25,
      "outputs": []
    },
    {
      "cell_type": "markdown",
      "source": [
        "<img src = \"https://www.codingem.com/wp-content/uploads/2021/09/flowchart-for-loop.003-1024x576.jpeg\">"
      ],
      "metadata": {
        "id": "aOSm_Zx7PXxx"
      }
    },
    {
      "cell_type": "code",
      "source": [],
      "metadata": {
        "id": "NPC-hpDWPZra"
      },
      "execution_count": 25,
      "outputs": []
    },
    {
      "cell_type": "markdown",
      "source": [
        "# **These are unbreakable While loops**\n",
        "\n",
        "<img src = \"https://img.devrant.com/devrant/rant/r_1937207_LDJRy.jpg\">"
      ],
      "metadata": {
        "id": "oo1F-WynPmwo"
      }
    }
  ]
}