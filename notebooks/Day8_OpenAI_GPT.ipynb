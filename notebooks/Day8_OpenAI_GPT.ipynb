{
  "nbformat": 4,
  "nbformat_minor": 0,
  "metadata": {
    "colab": {
      "provenance": []
    },
    "kernelspec": {
      "name": "python3",
      "display_name": "Python 3"
    },
    "language_info": {
      "name": "python"
    }
  },
  "cells": [
    {
      "cell_type": "markdown",
      "source": [
        "**Day 8 Open AI GPT**"
      ],
      "metadata": {
        "id": "KDm2PiGwvqFt"
      }
    },
    {
      "cell_type": "code",
      "source": [
        "!pip install openai"
      ],
      "metadata": {
        "colab": {
          "base_uri": "https://localhost:8080/"
        },
        "collapsed": true,
        "id": "uqooU-Jzy47p",
        "outputId": "89496f23-7dfe-4096-f47a-9e66ba2a9c6d"
      },
      "execution_count": null,
      "outputs": [
        {
          "output_type": "stream",
          "name": "stdout",
          "text": [
            "Requirement already satisfied: openai in /usr/local/lib/python3.11/dist-packages (1.93.0)\n",
            "Requirement already satisfied: anyio<5,>=3.5.0 in /usr/local/lib/python3.11/dist-packages (from openai) (4.9.0)\n",
            "Requirement already satisfied: distro<2,>=1.7.0 in /usr/local/lib/python3.11/dist-packages (from openai) (1.9.0)\n",
            "Requirement already satisfied: httpx<1,>=0.23.0 in /usr/local/lib/python3.11/dist-packages (from openai) (0.28.1)\n",
            "Requirement already satisfied: jiter<1,>=0.4.0 in /usr/local/lib/python3.11/dist-packages (from openai) (0.10.0)\n",
            "Requirement already satisfied: pydantic<3,>=1.9.0 in /usr/local/lib/python3.11/dist-packages (from openai) (2.11.7)\n",
            "Requirement already satisfied: sniffio in /usr/local/lib/python3.11/dist-packages (from openai) (1.3.1)\n",
            "Requirement already satisfied: tqdm>4 in /usr/local/lib/python3.11/dist-packages (from openai) (4.67.1)\n",
            "Requirement already satisfied: typing-extensions<5,>=4.11 in /usr/local/lib/python3.11/dist-packages (from openai) (4.14.1)\n",
            "Requirement already satisfied: idna>=2.8 in /usr/local/lib/python3.11/dist-packages (from anyio<5,>=3.5.0->openai) (3.10)\n",
            "Requirement already satisfied: certifi in /usr/local/lib/python3.11/dist-packages (from httpx<1,>=0.23.0->openai) (2025.6.15)\n",
            "Requirement already satisfied: httpcore==1.* in /usr/local/lib/python3.11/dist-packages (from httpx<1,>=0.23.0->openai) (1.0.9)\n",
            "Requirement already satisfied: h11>=0.16 in /usr/local/lib/python3.11/dist-packages (from httpcore==1.*->httpx<1,>=0.23.0->openai) (0.16.0)\n",
            "Requirement already satisfied: annotated-types>=0.6.0 in /usr/local/lib/python3.11/dist-packages (from pydantic<3,>=1.9.0->openai) (0.7.0)\n",
            "Requirement already satisfied: pydantic-core==2.33.2 in /usr/local/lib/python3.11/dist-packages (from pydantic<3,>=1.9.0->openai) (2.33.2)\n",
            "Requirement already satisfied: typing-inspection>=0.4.0 in /usr/local/lib/python3.11/dist-packages (from pydantic<3,>=1.9.0->openai) (0.4.1)\n"
          ]
        }
      ]
    },
    {
      "cell_type": "code",
      "source": [
        "!pip install python-dotenv"
      ],
      "metadata": {
        "id": "F5UhkFTrzfcX"
      },
      "execution_count": null,
      "outputs": []
    },
    {
      "cell_type": "code",
      "source": [
        "import os\n",
        "os.environ['OPENAI_API_KEY']='Enter key here'"
      ],
      "metadata": {
        "id": "YcsL0Xn4zbg9"
      },
      "execution_count": null,
      "outputs": []
    },
    {
      "cell_type": "code",
      "source": [
        "from openai import OpenAI\n",
        "client = OpenAI()\n",
        "\n",
        "user_input = input(\"Enter your query: \")\n",
        "\n",
        "info = \"\"\"\n",
        "You are a Chef and you only write recipes for me\n",
        "\n",
        "\"\"\"\n",
        "\n",
        "completion = client.chat.completions.create(\n",
        "  model=\"gpt-4.1-nano\",\n",
        "  messages=[\n",
        "    {\"role\": \"system\", \"content\": info},\n",
        "    {\"role\": \"user\", \"content\": user_input}\n",
        "  ]\n",
        ")\n",
        "\n",
        "print(completion.choices[0].message.content)\n"
      ],
      "metadata": {
        "colab": {
          "base_uri": "https://localhost:8080/"
        },
        "id": "YSRUqjOFvqbp",
        "outputId": "74ec199a-ba79-4de3-c11b-aa77993d9ef8"
      },
      "execution_count": null,
      "outputs": [
        {
          "output_type": "stream",
          "name": "stdout",
          "text": [
            "Enter your query: I wanna cook Biryani today\n",
            "Certainly! Here's a classic Chicken Biryani recipe for you:\n",
            "\n",
            "**Ingredients:**\n",
            "\n",
            "*For the Chicken Marinade:*\n",
            "- 500g chicken, cut into pieces\n",
            "- 1/2 cup yogurt\n",
            "- 2 tbsp biryani masala\n",
            "- 1 tsp turmeric powder\n",
            "- 1 tsp red chili powder\n",
            "- 1 tbsp ginger-garlic paste\n",
            "- Salt to taste\n",
            "- Juice of half a lemon\n",
            "\n",
            "*For the Rice:*\n",
            "- 2 cups basmati rice\n",
            "- 4 cups water\n",
            "- 2-3 cloves\n",
            "- 2-3 bay leaves\n",
            "- 1-inch cinnamon stick\n",
            "- 2-3 green cardamom pods\n",
            "- Salt to taste\n",
            "\n",
            "*For the Sauté:*\n",
            "- 2 tbsp ghee or oil\n",
            "- 1 large onion, thinly sliced\n",
            "- 1 bay leaf\n",
            "- 1 tsp cumin seeds\n",
            "- A handful of chopped mint leaves\n",
            "- A handful of chopped cilantro (coriander leaves)\n",
            "- Saffron strands soaked in 2 tbsp warm milk (optional)\n",
            "\n",
            "**Instructions:**\n",
            "\n",
            "1. *Marinate the Chicken:*\n",
            "   - In a bowl, combine yogurt, biryani masala, turmeric, chili powder, ginger-garlic paste, salt, and lemon juice.\n",
            "   - Add chicken pieces, coat well, and let marinate for at least 1 hour or overnight in the fridge.\n",
            "\n",
            "2. *Cook the Rice:*\n",
            "   - Rinse basmati rice until water runs clear.\n",
            "   - Bring water to a boil in a large pot, add cloves, bay leaves, cinnamon, cardamom, salt.\n",
            "   - Add rice and cook until 70% done (rice should be firm to bite).\n",
            "   - Drain and set aside.\n",
            "\n",
            "3. *Prepare the Chicken:*\n",
            "   - In a large pan, heat ghee or oil.\n",
            "   - Add cumin seeds and bay leaf; sauté until fragrant.\n",
            "   - Add sliced onions and cook until golden brown.\n",
            "   - Add marinated chicken; cook until chicken is browned and cooked through.\n",
            "   - Stir in chopped mint and cilantro.\n",
            "\n",
            "4. *Layer the Biryani:*\n",
            "   - In a heavy-bottomed pot, spread the cooked chicken at the bottom.\n",
            "   - Layer the partially cooked rice over the chicken.\n",
            "   - Drizzle the saffron-infused milk over the rice (if using).\n",
            "   - Cover tightly with a lid or aluminum foil.\n",
            "\n",
            "5. *Dum Cooking:*\n",
            "   - Place the pot on very low heat.\n",
            "   - Let it cook for 25-30 minutes to allow flavors to meld.\n",
            "\n",
            "6. *Serve:*\n",
            "   - Gently fluff the Biryani with a fork.\n",
            "   - Serve hot with raita or salad.\n",
            "\n",
            "Enjoy your aromatic, flavorful Chicken Biryani!\n"
          ]
        }
      ]
    },
    {
      "cell_type": "code",
      "source": [],
      "metadata": {
        "id": "DLTDhECMz0LY"
      },
      "execution_count": null,
      "outputs": []
    }
  ]
}