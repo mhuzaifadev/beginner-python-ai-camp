{
  "nbformat": 4,
  "nbformat_minor": 0,
  "metadata": {
    "colab": {
      "provenance": []
    },
    "kernelspec": {
      "name": "python3",
      "display_name": "Python 3"
    },
    "language_info": {
      "name": "python"
    }
  },
  "cells": [
    {
      "cell_type": "markdown",
      "source": [
        "Write a Python program that prints numbers from 50 to 1. For each number, if it is **even**, print `\"Number X is even\"`...\n",
        "If it is **odd**, print: `\"Number X is odd\"`"
      ],
      "metadata": {
        "id": "yoSpyOoAjJgv"
      }
    },
    {
      "cell_type": "code",
      "execution_count": 1,
      "metadata": {
        "colab": {
          "base_uri": "https://localhost:8080/"
        },
        "id": "bFwVS43RjFZg",
        "outputId": "a6c70301-7542-4b7e-cb1b-e4a2a254ca21"
      },
      "outputs": [
        {
          "output_type": "stream",
          "name": "stdout",
          "text": [
            "Number 50 is even\n",
            "Number 47 is odd\n",
            "Number 44 is even\n",
            "Number 41 is odd\n",
            "Number 38 is even\n",
            "Number 35 is odd\n",
            "Number 32 is even\n",
            "Number 29 is odd\n",
            "Number 26 is even\n",
            "Number 23 is odd\n",
            "Number 20 is even\n",
            "Number 17 is odd\n",
            "Number 14 is even\n",
            "Number 11 is odd\n",
            "Number 8 is even\n",
            "Number 5 is odd\n",
            "Number 2 is even\n"
          ]
        }
      ],
      "source": [
        "for x in range(50,0, -3):\n",
        "  if x % 2 == 0:\n",
        "    print(f\"Number {x} is even\")\n",
        "  else:\n",
        "    print(f\"Number {x} is odd\")"
      ]
    },
    {
      "cell_type": "markdown",
      "source": [
        "Write a Python program that asks the user to enter 5 numbers (one by one)... Then print out:\n",
        "- The total of all the numbers\n",
        "- How many of them are greater than 10.\n"
      ],
      "metadata": {
        "id": "Mx36ba7nj8hA"
      }
    },
    {
      "cell_type": "code",
      "source": [
        "numbers = []\n",
        "count = 0\n",
        "total = 0\n",
        "for i in range(0,5):\n",
        "  x = int(input(\"ENter a number:\"))\n",
        "  numbers.append(x)\n",
        "\n",
        "  total += x\n",
        "\n",
        "  if x > 10:\n",
        "    count += 1\n",
        "\n",
        "print(\"Our sum of all numbers: \", total)\n",
        "print(\"Total number that are greater than 10 are \",count)"
      ],
      "metadata": {
        "colab": {
          "base_uri": "https://localhost:8080/"
        },
        "id": "yFa6rQ1BsWF3",
        "outputId": "e1e51a49-e231-4999-faed-660a0363e458"
      },
      "execution_count": 2,
      "outputs": [
        {
          "output_type": "stream",
          "name": "stdout",
          "text": [
            "ENter a number:5\n",
            "ENter a number:9\n",
            "ENter a number:12\n",
            "ENter a number:36\n",
            "ENter a number:45\n",
            "Our sum of all numbers:  107\n",
            "Total number that are greater than 10 are  3\n"
          ]
        }
      ]
    },
    {
      "cell_type": "markdown",
      "source": [
        "Write a Python program that prints the multiplication table of any number between 1 and 10.\n",
        "\n",
        "Print the table from 1 to 10, like this:\n",
        "\n",
        "Example Output if num = 7:\n",
        "```\n",
        "7 x 1 = 7  \n",
        "7 x 2 = 14  \n",
        "7 x 3 = 21  \n",
        "...  \n",
        "7 x 10 = 70\n",
        "```"
      ],
      "metadata": {
        "id": "BgsSD6KquIBh"
      }
    },
    {
      "cell_type": "code",
      "source": [
        "num = int(input(\"Enter number \"))\n",
        "\n",
        "for i in range(1,11):\n",
        "  print(num,\" x \",i, \"= \", i*num)"
      ],
      "metadata": {
        "colab": {
          "base_uri": "https://localhost:8080/"
        },
        "id": "Ymr_qwX0tD0Y",
        "outputId": "d51ad3af-cd00-4d5c-d5ac-415654f8cdeb"
      },
      "execution_count": 3,
      "outputs": [
        {
          "output_type": "stream",
          "name": "stdout",
          "text": [
            "Enter number 5\n",
            "5  x  1 =  5\n",
            "5  x  2 =  10\n",
            "5  x  3 =  15\n",
            "5  x  4 =  20\n",
            "5  x  5 =  25\n",
            "5  x  6 =  30\n",
            "5  x  7 =  35\n",
            "5  x  8 =  40\n",
            "5  x  9 =  45\n",
            "5  x  10 =  50\n"
          ]
        }
      ]
    },
    {
      "cell_type": "code",
      "source": [],
      "metadata": {
        "id": "y0nmjw9AxXv0"
      },
      "execution_count": 3,
      "outputs": []
    },
    {
      "cell_type": "markdown",
      "source": [
        "Write a program that prints this pattern but ONLY using FOR or WHILE Loop....\n",
        "\n",
        "```\n",
        "*****\n",
        "****\n",
        "***\n",
        "**\n",
        "*\n",
        "```\n",
        "\n",
        "Hint is you multiple string it is repeatedly printed.\n",
        "Example `\"*\"*3` has the output of:\n",
        "`***`"
      ],
      "metadata": {
        "id": "_gHBmgN0yQlc"
      }
    },
    {
      "cell_type": "code",
      "source": [
        "for i in range(5,0,-1):\n",
        "  print(\"*\"*i)"
      ],
      "metadata": {
        "colab": {
          "base_uri": "https://localhost:8080/"
        },
        "id": "ZJCFFAbVyoye",
        "outputId": "f725de9c-d54c-4f34-e361-f67362614f79"
      },
      "execution_count": 4,
      "outputs": [
        {
          "output_type": "stream",
          "name": "stdout",
          "text": [
            "*****\n",
            "****\n",
            "***\n",
            "**\n",
            "*\n"
          ]
        }
      ]
    },
    {
      "cell_type": "code",
      "source": [],
      "metadata": {
        "id": "raX7dVbF1R0F"
      },
      "execution_count": 4,
      "outputs": []
    },
    {
      "cell_type": "markdown",
      "source": [
        "Write a function called calculate_area(length, width) that calculates and prints the area of a rectangle.\n",
        "\n",
        "Then, call the function two times with different values.\n",
        "\n",
        "Example Output:\n",
        "```\n",
        "Length: 5, Width: 3 → Area = 15  \n",
        "Length: 10, Width: 2 → Area = 20\n",
        "```\n"
      ],
      "metadata": {
        "id": "ImyZ4I2z1-wx"
      }
    },
    {
      "cell_type": "code",
      "source": [
        "def calculate_area(length, width):\n",
        "  area = length * width\n",
        "  print(\"Length: \", length, \"Width: \", width, \"Area = \", area)\n",
        "\n"
      ],
      "metadata": {
        "id": "NAyjGkh02YyW"
      },
      "execution_count": 5,
      "outputs": []
    },
    {
      "cell_type": "code",
      "source": [
        "calculate_area(5,3)\n",
        "calculate_area(10,2)\n",
        "\n",
        "calculate_area(18,2)"
      ],
      "metadata": {
        "colab": {
          "base_uri": "https://localhost:8080/"
        },
        "id": "MWaY5Z9K46cP",
        "outputId": "111fd219-0159-4d8e-cd46-a43393b12655"
      },
      "execution_count": 6,
      "outputs": [
        {
          "output_type": "stream",
          "name": "stdout",
          "text": [
            "Length:  5 Width:  3 Area =  15\n",
            "Length:  10 Width:  2 Area =  20\n",
            "Length:  18 Width:  2 Area =  36\n"
          ]
        }
      ]
    }
  ]
}